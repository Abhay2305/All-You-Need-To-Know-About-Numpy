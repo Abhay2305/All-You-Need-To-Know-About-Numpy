{
 "cells": [
  {
   "cell_type": "code",
   "execution_count": 1,
   "id": "65023a4c-8bbd-47cd-b0ff-ee6bf2061179",
   "metadata": {},
   "outputs": [],
   "source": [
    "import numpy as np"
   ]
  },
  {
   "cell_type": "code",
   "execution_count": 2,
   "id": "47081100-8ca8-4616-8816-0806bdd7085e",
   "metadata": {},
   "outputs": [
    {
     "name": "stdin",
     "output_type": "stream",
     "text": [
      "Enter the number 21\n",
      "Enter the number 32\n",
      "Enter the number 43\n",
      "Enter the number 54\n",
      "Enter the number 54\n"
     ]
    },
    {
     "name": "stdout",
     "output_type": "stream",
     "text": [
      "[21 32 43 54 54]\n"
     ]
    }
   ],
   "source": [
    "l = []\n",
    "for i in range(1,6):\n",
    "    i = int(input('Enter the number'))\n",
    "    l.append(i)\n",
    "\n",
    "print(np.array(l))\n"
   ]
  },
  {
   "cell_type": "code",
   "execution_count": 3,
   "id": "53e5e032-91a8-46af-9b17-d50231eb8c78",
   "metadata": {},
   "outputs": [
    {
     "name": "stdout",
     "output_type": "stream",
     "text": [
      "[[1 2 3 4]\n",
      " [1 2 3 4]]\n",
      "2\n"
     ]
    }
   ],
   "source": [
    "ar2 = np.array([[1,2,3,4],[1,2,3,4]])\n",
    "print(ar2)\n",
    "print(ar2.ndim)"
   ]
  },
  {
   "cell_type": "code",
   "execution_count": 4,
   "id": "040af8ee-0e1e-4ab7-a2cf-4944b2617c09",
   "metadata": {},
   "outputs": [
    {
     "name": "stdout",
     "output_type": "stream",
     "text": [
      "[[[  1.    2.    3.    4. ]\n",
      "  [ 12.   34.   56.6  78. ]\n",
      "  [123.  456.  789.   12. ]]]\n",
      "3\n",
      "Data Type: float64\n"
     ]
    }
   ],
   "source": [
    "ar3 = np.array([[[1.0,2,3,4], [12,34,56.6,78], [123,456,789,12]]])\n",
    "print(ar3)\n",
    "print(ar3.ndim)\n",
    "print(\"Data Type:\", ar3.dtype)"
   ]
  },
  {
   "cell_type": "code",
   "execution_count": 5,
   "id": "264f5cb5-9635-41e7-92e8-e957fc206f13",
   "metadata": {},
   "outputs": [
    {
     "name": "stdout",
     "output_type": "stream",
     "text": [
      "[[[[[[[[[[1 2 3 4]]]]]]]]]]\n",
      "10\n"
     ]
    }
   ],
   "source": [
    "ar10 = np.array([1,2,3,4], ndmin=10)\n",
    "print(ar10)\n",
    "print(ar10.ndim)"
   ]
  },
  {
   "cell_type": "code",
   "execution_count": 6,
   "id": "8ce85fe5-1e23-4512-9a0b-871742c6465e",
   "metadata": {},
   "outputs": [
    {
     "name": "stdout",
     "output_type": "stream",
     "text": [
      "[0. 0. 0. 0.]\n",
      "1\n"
     ]
    }
   ],
   "source": [
    "ar_zero = np.zeros(4)\n",
    "print(ar_zero)\n",
    "\n",
    "print(ar_zero.ndim)"
   ]
  },
  {
   "cell_type": "code",
   "execution_count": 7,
   "id": "0d43d628-67dc-4954-bf7b-ad64fa66f6d7",
   "metadata": {},
   "outputs": [
    {
     "name": "stdout",
     "output_type": "stream",
     "text": [
      "[[0. 0. 0. 0.]\n",
      " [0. 0. 0. 0.]\n",
      " [0. 0. 0. 0.]]\n"
     ]
    }
   ],
   "source": [
    "ar_zero1 = np.zeros((3,4))\n",
    "print(ar_zero1)"
   ]
  },
  {
   "cell_type": "code",
   "execution_count": 8,
   "id": "12de7fc3-0efd-4d01-bbfb-c09e8a04253f",
   "metadata": {},
   "outputs": [
    {
     "name": "stdout",
     "output_type": "stream",
     "text": [
      "[1. 1. 1. 1.]\n"
     ]
    }
   ],
   "source": [
    "ar_one = np.ones(4)\n",
    "print(ar_one)"
   ]
  },
  {
   "cell_type": "code",
   "execution_count": 9,
   "id": "a6a2d44a-15e5-406f-92e0-2229002008fa",
   "metadata": {},
   "outputs": [
    {
     "name": "stdout",
     "output_type": "stream",
     "text": [
      "[[1. 1. 1. 1.]\n",
      " [1. 1. 1. 1.]\n",
      " [1. 1. 1. 1.]]\n"
     ]
    }
   ],
   "source": [
    "ar_one1 = np.ones((3,4))\n",
    "print(ar_one1)"
   ]
  },
  {
   "cell_type": "code",
   "execution_count": 10,
   "id": "90125d0e-d565-4f55-a5e2-4e4d7cf957bf",
   "metadata": {},
   "outputs": [
    {
     "name": "stdout",
     "output_type": "stream",
     "text": [
      "[ 0  1  2  3  4  5  6  7  8  9 10 11 12 13 14 15 16 17 18 19 20 21 22 23\n",
      " 24 25 26 27 28 29 30 31 32 33 34 35 36 37 38 39]\n"
     ]
    }
   ],
   "source": [
    "arr_arrange = np.arange(40)\n",
    "print(arr_arrange)"
   ]
  },
  {
   "cell_type": "code",
   "execution_count": 11,
   "id": "d1fe258d-ac63-4283-84ba-1c0e4cb8a303",
   "metadata": {},
   "outputs": [
    {
     "name": "stdout",
     "output_type": "stream",
     "text": [
      "[[1. 0. 0.]\n",
      " [0. 1. 0.]\n",
      " [0. 0. 1.]]\n"
     ]
    }
   ],
   "source": [
    "arr_diagonal = np.eye(3)\n",
    "print(arr_diagonal)"
   ]
  },
  {
   "cell_type": "code",
   "execution_count": 12,
   "id": "49a63644-831a-4730-9d17-48a0dc530870",
   "metadata": {},
   "outputs": [
    {
     "name": "stdout",
     "output_type": "stream",
     "text": [
      "[ 1.          1.18367347  1.36734694  1.55102041  1.73469388  1.91836735\n",
      "  2.10204082  2.28571429  2.46938776  2.65306122  2.83673469  3.02040816\n",
      "  3.20408163  3.3877551   3.57142857  3.75510204  3.93877551  4.12244898\n",
      "  4.30612245  4.48979592  4.67346939  4.85714286  5.04081633  5.2244898\n",
      "  5.40816327  5.59183673  5.7755102   5.95918367  6.14285714  6.32653061\n",
      "  6.51020408  6.69387755  6.87755102  7.06122449  7.24489796  7.42857143\n",
      "  7.6122449   7.79591837  7.97959184  8.16326531  8.34693878  8.53061224\n",
      "  8.71428571  8.89795918  9.08163265  9.26530612  9.44897959  9.63265306\n",
      "  9.81632653 10.        ]\n"
     ]
    }
   ],
   "source": [
    "ar_lin =  np.linspace(1,10)\n",
    "print(ar_lin)"
   ]
  },
  {
   "cell_type": "code",
   "execution_count": 13,
   "id": "93a22954-9c55-4f11-8ab7-bb58ab22e88c",
   "metadata": {},
   "outputs": [
    {
     "name": "stdout",
     "output_type": "stream",
     "text": [
      "[ 1.    3.25  5.5   7.75 10.  ]\n"
     ]
    }
   ],
   "source": [
    "ar_lin1 = np.linspace(1,10,5)\n",
    "print(ar_lin1)"
   ]
  },
  {
   "cell_type": "code",
   "execution_count": 14,
   "id": "ef27d4a2-48f8-4e8e-99d6-d2f3f392c162",
   "metadata": {},
   "outputs": [
    {
     "name": "stdout",
     "output_type": "stream",
     "text": [
      "[0.61243116 0.75281065 0.43903076 0.81427032 0.89270232]\n"
     ]
    }
   ],
   "source": [
    "random = np.random.rand(5)\n",
    "print(random)"
   ]
  },
  {
   "cell_type": "code",
   "execution_count": 15,
   "id": "9d4886d8-500e-4205-9ee6-47183fa853fe",
   "metadata": {},
   "outputs": [
    {
     "name": "stdout",
     "output_type": "stream",
     "text": [
      "[[0.10950665 0.46168314 0.33821646 0.82201326 0.12777808]\n",
      " [0.62223396 0.58182784 0.09181193 0.49386634 0.86247653]]\n"
     ]
    }
   ],
   "source": [
    "random1 = np.random.rand(2,5)\n",
    "print(random1)"
   ]
  },
  {
   "cell_type": "code",
   "execution_count": 16,
   "id": "0051a297-5306-4e22-8184-ae91398d9235",
   "metadata": {},
   "outputs": [
    {
     "name": "stdout",
     "output_type": "stream",
     "text": [
      "[0.2719557  0.4793146  0.93336365 1.51141834 0.04076475]\n"
     ]
    }
   ],
   "source": [
    "randomwith_negative  = np.random.randn(5)\n",
    "print(randomwith_negative)"
   ]
  },
  {
   "cell_type": "code",
   "execution_count": 17,
   "id": "4a961b32-60e1-42af-9ba6-6115111840dd",
   "metadata": {},
   "outputs": [
    {
     "name": "stdout",
     "output_type": "stream",
     "text": [
      "[[ 0.08330048 -0.01219719  0.08331467 -1.57012817 -1.57682265]\n",
      " [ 1.63332482 -0.88558968 -1.24400347 -1.23427206  1.39561984]\n",
      " [ 0.43592297  0.02837547  1.55613966  0.73523517  0.88434976]\n",
      " [ 0.79408306 -0.45626112  0.9672063   1.04589872  0.11969302]]\n"
     ]
    }
   ],
   "source": [
    "randomwith_negative1  = np.random.randn(4,5)\n",
    "print(randomwith_negative1)"
   ]
  },
  {
   "cell_type": "code",
   "execution_count": null,
   "id": "e24442d3-705a-426d-bbad-f301e31626b9",
   "metadata": {},
   "outputs": [],
   "source": []
  },
  {
   "cell_type": "code",
   "execution_count": null,
   "id": "fd7888ff-8373-4434-a176-1d484ff72581",
   "metadata": {},
   "outputs": [],
   "source": []
  },
  {
   "cell_type": "code",
   "execution_count": 21,
   "id": "4e771795-001a-48b4-a3e7-d849f336699d",
   "metadata": {},
   "outputs": [
    {
     "name": "stdout",
     "output_type": "stream",
     "text": [
      "[94 37 44 58 72 60 98]\n"
     ]
    }
   ],
   "source": [
    "randomwithmin_max_total = np.random.randint(0,100,7)\n",
    "print(randomwithmin_max_total)"
   ]
  },
  {
   "cell_type": "code",
   "execution_count": 22,
   "id": "02a4b9d0-51ff-4e9b-a227-c35ff32c194b",
   "metadata": {},
   "outputs": [
    {
     "name": "stdout",
     "output_type": "stream",
     "text": [
      "[2 3 4 5]\n"
     ]
    }
   ],
   "source": [
    "arr = np.array([1,2,3,4])\n",
    "arr_add = arr + 1\n",
    "print(arr_add)"
   ]
  },
  {
   "cell_type": "code",
   "execution_count": 23,
   "id": "2659fcf4-9783-4a39-833e-4cd4e4637913",
   "metadata": {},
   "outputs": [
    {
     "name": "stdout",
     "output_type": "stream",
     "text": [
      "[11 12 13 14]\n"
     ]
    }
   ],
   "source": [
    "arr = np.array([1,2,3,4])\n",
    "arr_add = np.add(arr,10)\n",
    "print(arr_add)"
   ]
  },
  {
   "cell_type": "code",
   "execution_count": 24,
   "id": "c1a92606-7aba-4adb-acd0-3dbb34fc6b3b",
   "metadata": {},
   "outputs": [
    {
     "name": "stdout",
     "output_type": "stream",
     "text": [
      "[2 4 6 8]\n"
     ]
    }
   ],
   "source": [
    "arr1 = np.array([1,2,3,4])\n",
    "arr2 = np.array([1,2,3,4])\n",
    "arr_add = arr1 + arr2\n",
    "print(arr_add)"
   ]
  },
  {
   "cell_type": "code",
   "execution_count": 25,
   "id": "d73f745a-e40f-4d39-8cec-6be0e0a4fa1c",
   "metadata": {},
   "outputs": [
    {
     "name": "stdout",
     "output_type": "stream",
     "text": [
      "[2 4 6 8]\n"
     ]
    }
   ],
   "source": [
    "arr1 = np.array([1,2,3,4])\n",
    "arr2 = np.array([1,2,3,4])\n",
    "arr_add = np.add(arr1,arr2)\n",
    "print(arr_add)"
   ]
  },
  {
   "cell_type": "code",
   "execution_count": 26,
   "id": "5019c0ef-9494-459b-9398-e8ae2bf69e83",
   "metadata": {},
   "outputs": [
    {
     "name": "stdout",
     "output_type": "stream",
     "text": [
      "[10 20 30 40]\n"
     ]
    }
   ],
   "source": [
    "arr = np.array([1,2,3,4])\n",
    "arr_add = arr * 10\n",
    "print(arr_add)"
   ]
  },
  {
   "cell_type": "code",
   "execution_count": 27,
   "id": "b77a2ef3-9cab-4322-86ac-adfc75703c72",
   "metadata": {},
   "outputs": [
    {
     "name": "stdout",
     "output_type": "stream",
     "text": [
      "[ 1  4  9 16]\n"
     ]
    }
   ],
   "source": [
    "arr1 = np.array([1,2,3,4])\n",
    "arr2 = np.array([1,2,3,4])\n",
    "arr_add = np.multiply(arr1,arr2)\n",
    "print(arr_add)"
   ]
  },
  {
   "cell_type": "code",
   "execution_count": 28,
   "id": "50be0a2f-a34d-43d8-b486-dd4c03db3be6",
   "metadata": {},
   "outputs": [
    {
     "name": "stdout",
     "output_type": "stream",
     "text": [
      "[1. 2. 3. 4.]\n"
     ]
    }
   ],
   "source": [
    "arr = np.array([10,20,30,40])\n",
    "arr_add = arr / 10\n",
    "print(arr_add)"
   ]
  },
  {
   "cell_type": "code",
   "execution_count": 29,
   "id": "273ab7de-cccb-4a88-820a-5c1e60776b24",
   "metadata": {},
   "outputs": [
    {
     "name": "stdout",
     "output_type": "stream",
     "text": [
      "[1. 1. 1. 1.]\n"
     ]
    }
   ],
   "source": [
    "arr1 = np.array([1,2,3,4])\n",
    "arr2 = np.array([1,2,3,4])\n",
    "arr_add = np.divide(arr1,arr2)\n",
    "print(arr_add)"
   ]
  },
  {
   "cell_type": "code",
   "execution_count": 30,
   "id": "f2940f28-2c46-4af0-8589-e9c5b736c4a6",
   "metadata": {},
   "outputs": [
    {
     "name": "stdout",
     "output_type": "stream",
     "text": [
      "[0 1 2 3]\n"
     ]
    }
   ],
   "source": [
    "arr = np.array([1,2,3,4])\n",
    "arr_add = arr - 1\n",
    "print(arr_add)"
   ]
  },
  {
   "cell_type": "code",
   "execution_count": 31,
   "id": "63df6532-0e15-4561-8060-32368f396f8c",
   "metadata": {},
   "outputs": [
    {
     "name": "stdout",
     "output_type": "stream",
     "text": [
      "[0 0 0 0]\n"
     ]
    }
   ],
   "source": [
    "arr1 = np.array([1,2,3,4])\n",
    "arr2 = np.array([1,2,3,4])\n",
    "arr_add = np.subtract(arr1,arr2)\n",
    "print(arr_add)"
   ]
  },
  {
   "cell_type": "code",
   "execution_count": 32,
   "id": "3a93167b-cdce-4d78-adcf-5dfc4a013b1d",
   "metadata": {},
   "outputs": [
    {
     "name": "stdout",
     "output_type": "stream",
     "text": [
      "[1 2 0 1]\n"
     ]
    }
   ],
   "source": [
    "arr = np.array([10,20,30,40])\n",
    "arr_add = arr % 3\n",
    "print(arr_add)"
   ]
  },
  {
   "cell_type": "code",
   "execution_count": 33,
   "id": "79b5fc8e-676f-4709-bd83-279ae2e22148",
   "metadata": {},
   "outputs": [
    {
     "name": "stdout",
     "output_type": "stream",
     "text": [
      "[1 2 0 1]\n"
     ]
    }
   ],
   "source": [
    "arr1 = np.array([10,20,30,40])\n",
    "arr2 = np.array([3,3,3,3])\n",
    "arr_add = np.mod(arr1,arr2)\n",
    "print(arr_add)"
   ]
  },
  {
   "cell_type": "code",
   "execution_count": 34,
   "id": "7036f9bc-d193-458e-98f9-39567644d758",
   "metadata": {},
   "outputs": [
    {
     "name": "stdout",
     "output_type": "stream",
     "text": [
      "[  1   4  27 256]\n"
     ]
    }
   ],
   "source": [
    "arr1 = np.array([1,2,3,4])\n",
    "arr2 = np.array([1,2,3,4])\n",
    "arr_add = np.power(arr1,arr2)\n",
    "print(arr_add)"
   ]
  },
  {
   "cell_type": "code",
   "execution_count": 35,
   "id": "b7ba085c-64a9-4e5e-b2bb-7564261fa290",
   "metadata": {},
   "outputs": [
    {
     "name": "stdout",
     "output_type": "stream",
     "text": [
      "[1 0 0 0]\n"
     ]
    }
   ],
   "source": [
    "arr1 = np.array([1,2,3,4])\n",
    "arr2 = np.array([1,2,3,4])\n",
    "arr_add = np.reciprocal(arr1,arr2)\n",
    "print(arr_add)"
   ]
  },
  {
   "cell_type": "code",
   "execution_count": 36,
   "id": "90569dc1-56d0-4ed4-98a4-f3bee7ccc1c7",
   "metadata": {},
   "outputs": [
    {
     "name": "stdout",
     "output_type": "stream",
     "text": [
      "Minimum No. is: 4 0\n",
      "Maximum No. is: 625 4\n",
      "Square root is: [ 2.  4.  7.  5. 25. 12.]\n"
     ]
    }
   ],
   "source": [
    "var = np.array([4,16,49,25,625,144])\n",
    "\n",
    "print(\"Minimum No. is:\", np.min(var), np.argmin(var))\n",
    "print(\"Maximum No. is:\", np.max(var), np.argmax(var))\n",
    "print(\"Square root is:\", np.sqrt(var))"
   ]
  },
  {
   "cell_type": "code",
   "execution_count": 37,
   "id": "12f59ce7-3865-40a9-9b73-bcdc7f1f2819",
   "metadata": {},
   "outputs": [
    {
     "name": "stdout",
     "output_type": "stream",
     "text": [
      "[5 6 0]\n"
     ]
    }
   ],
   "source": [
    "var = np.array([[8,7,0],[5,6,7]])\n",
    "print(np.min(var,axis = 0))"
   ]
  },
  {
   "cell_type": "code",
   "execution_count": 38,
   "id": "c85bfcb4-1a2b-41ea-9edc-5c4c35eeb1f9",
   "metadata": {},
   "outputs": [
    {
     "name": "stdout",
     "output_type": "stream",
     "text": [
      "[8 7 7]\n"
     ]
    }
   ],
   "source": [
    "var = np.array([[8,7,0],[5,6,7]])\n",
    "print(np.max(var,axis = 0))"
   ]
  },
  {
   "cell_type": "code",
   "execution_count": 39,
   "id": "be5b6fd2-af02-4c48-8722-1d099a51ad97",
   "metadata": {},
   "outputs": [
    {
     "name": "stdout",
     "output_type": "stream",
     "text": [
      "[0 5]\n"
     ]
    }
   ],
   "source": [
    "var = np.array([[8,7,0],[5,6,7]])\n",
    "print(np.min(var,axis = 1))"
   ]
  },
  {
   "cell_type": "code",
   "execution_count": 40,
   "id": "e4131d11-b0c0-4be0-bc39-6ff6dcfd24b9",
   "metadata": {},
   "outputs": [
    {
     "name": "stdout",
     "output_type": "stream",
     "text": [
      "[8 7]\n"
     ]
    }
   ],
   "source": [
    "var = np.array([[8,7,0],[5,6,7]])\n",
    "print(np.max(var,axis = 1))"
   ]
  },
  {
   "cell_type": "code",
   "execution_count": 41,
   "id": "e61fa6cb-164a-4d00-b747-716af925e831",
   "metadata": {},
   "outputs": [
    {
     "name": "stdout",
     "output_type": "stream",
     "text": [
      "(2, 2)\n"
     ]
    }
   ],
   "source": [
    "var = np.array([[2,3],[2,3]])\n",
    "print(var.shape)"
   ]
  },
  {
   "cell_type": "code",
   "execution_count": 42,
   "id": "902486d4-eddf-4dce-b4eb-a475e12052a0",
   "metadata": {},
   "outputs": [
    {
     "name": "stdout",
     "output_type": "stream",
     "text": [
      "[[1 2]\n",
      " [3 4]\n",
      " [5 5]]\n"
     ]
    }
   ],
   "source": [
    "var = np.array([1,2,3,4,5,5])\n",
    "x = var.reshape(3,2)\n",
    "print(x)"
   ]
  },
  {
   "cell_type": "code",
   "execution_count": 43,
   "id": "f37b9278-6c20-470c-a600-b04e43d70352",
   "metadata": {},
   "outputs": [
    {
     "name": "stdout",
     "output_type": "stream",
     "text": [
      "[[1 2 3]\n",
      " [4 5 6]\n",
      " [7 8 9]]\n"
     ]
    }
   ],
   "source": [
    "var = np.array([1,2,3,4,5,6,7,8,9])\n",
    "x = var.reshape(3,3)\n",
    "print(x)"
   ]
  },
  {
   "cell_type": "code",
   "execution_count": 44,
   "id": "30d0bfc5-ef5e-4a61-8d3d-2fb83b0812c4",
   "metadata": {},
   "outputs": [
    {
     "name": "stdout",
     "output_type": "stream",
     "text": [
      "1\n"
     ]
    }
   ],
   "source": [
    "var = np.array([1,2,3,4])\n",
    "print(var[0])"
   ]
  },
  {
   "cell_type": "code",
   "execution_count": 49,
   "id": "72f416f6-645e-4f27-90fc-6c9570f9447c",
   "metadata": {},
   "outputs": [
    {
     "name": "stdout",
     "output_type": "stream",
     "text": [
      "3\n"
     ]
    }
   ],
   "source": [
    "var = np.array([[1,2,3],[4,5,6]])\n",
    "print(var[0,2])"
   ]
  },
  {
   "cell_type": "code",
   "execution_count": 52,
   "id": "25d06f0b-3af1-4836-bd03-de4f674f56ef",
   "metadata": {},
   "outputs": [
    {
     "name": "stdout",
     "output_type": "stream",
     "text": [
      "[[9 8 7 6]\n",
      " [4 5 6 3]]\n"
     ]
    }
   ],
   "source": [
    "var3 = np.array([[[9,8,7,6],[4,5,6,3]]])\n",
    "for i in var3:\n",
    "    print(i)"
   ]
  },
  {
   "cell_type": "code",
   "execution_count": 55,
   "id": "fe3151ee-9d7b-437c-b61e-11b2390782a8",
   "metadata": {},
   "outputs": [
    {
     "name": "stdout",
     "output_type": "stream",
     "text": [
      "[9 8 7 6]\n",
      "[4 5 6 3]\n"
     ]
    }
   ],
   "source": [
    "var3 = np.array([[[9,8,7,6],[4,5,6,3]]])\n",
    "for i in var3:\n",
    "    for j in i:\n",
    "        print(j)"
   ]
  },
  {
   "cell_type": "code",
   "execution_count": 56,
   "id": "6d93b68c-d9a9-45ba-b2b6-212f93382f12",
   "metadata": {},
   "outputs": [
    {
     "name": "stdout",
     "output_type": "stream",
     "text": [
      "[[9 8 7 6]\n",
      " [4 5 6 3]]\n",
      "[[9 8 7 6]\n",
      " [4 5 6 3]]\n",
      "[[9 8 7 6]\n",
      " [4 5 6 3]]\n",
      "[[9 8 7 6]\n",
      " [4 5 6 3]]\n",
      "[[9 8 7 6]\n",
      " [4 5 6 3]]\n",
      "[[9 8 7 6]\n",
      " [4 5 6 3]]\n",
      "[[9 8 7 6]\n",
      " [4 5 6 3]]\n",
      "[[9 8 7 6]\n",
      " [4 5 6 3]]\n"
     ]
    }
   ],
   "source": [
    "var3 = np.array([[[9,8,7,6],[4,5,6,3]]])\n",
    "for i in var3:\n",
    "    for j in i:\n",
    "        for k in j:\n",
    "            print(i)"
   ]
  },
  {
   "cell_type": "code",
   "execution_count": 58,
   "id": "f7d52a39-5236-44df-a911-97baac6d41da",
   "metadata": {},
   "outputs": [
    {
     "name": "stdout",
     "output_type": "stream",
     "text": [
      "9\n",
      "8\n",
      "7\n",
      "6\n",
      "4\n",
      "5\n",
      "6\n",
      "3\n"
     ]
    }
   ],
   "source": [
    "var3 = np.array([[[9,8,7,6],[4,5,6,3]]])\n",
    "for i in np.nditer(var3):\n",
    "    print(i)"
   ]
  },
  {
   "cell_type": "code",
   "execution_count": 60,
   "id": "d666eda9-f520-4817-83a4-f327aae02180",
   "metadata": {},
   "outputs": [
    {
     "name": "stdout",
     "output_type": "stream",
     "text": [
      "(0, 0, 0) 9\n",
      "(0, 0, 1) 8\n",
      "(0, 0, 2) 7\n",
      "(0, 0, 3) 6\n",
      "(0, 1, 0) 4\n",
      "(0, 1, 1) 5\n",
      "(0, 1, 2) 6\n",
      "(0, 1, 3) 3\n"
     ]
    }
   ],
   "source": [
    "var3 = np.array([[[9,8,7,6],[4,5,6,3]]])\n",
    "for i,d in np.ndenumerate(var3):\n",
    "    print(i,d)"
   ]
  },
  {
   "cell_type": "code",
   "execution_count": 62,
   "id": "e849e92c-942d-4f7f-9745-adcb04376ad9",
   "metadata": {},
   "outputs": [
    {
     "name": "stdout",
     "output_type": "stream",
     "text": [
      "[1 2 3 4 1 2 3 4]\n"
     ]
    }
   ],
   "source": [
    "var = np.array([1,2,3,4])\n",
    "var1 = np.array([1,2,3,4])\n",
    "merge = np.concatenate((var,var1))\n",
    "print(merge)"
   ]
  },
  {
   "cell_type": "code",
   "execution_count": 64,
   "id": "39a6206f-dc31-4de2-bb60-208d47776d8f",
   "metadata": {},
   "outputs": [
    {
     "name": "stdout",
     "output_type": "stream",
     "text": [
      "[[5 6 7 8]\n",
      " [1 2 3 4]\n",
      " [7 8 9 0]\n",
      " [1 2 3 4]]\n"
     ]
    }
   ],
   "source": [
    "var = np.array([[5,6,7,8],[1,2,3,4]])\n",
    "var1 = np.array([[7,8,9,0],[1,2,3,4]])\n",
    "merge = np.concatenate((var,var1))\n",
    "print(merge)"
   ]
  },
  {
   "cell_type": "code",
   "execution_count": 65,
   "id": "68ebdd07-9ecc-4ca2-a618-1466c09769f9",
   "metadata": {},
   "outputs": [
    {
     "name": "stdout",
     "output_type": "stream",
     "text": [
      "[[5 6 7 8 7 8 9 0]\n",
      " [1 2 3 4 1 2 3 4]]\n"
     ]
    }
   ],
   "source": [
    "var = np.array([[5,6,7,8],[1,2,3,4]])\n",
    "var1 = np.array([[7,8,9,0],[1,2,3,4]])\n",
    "merge = np.concatenate((var,var1), axis = 1)\n",
    "print(merge)"
   ]
  },
  {
   "cell_type": "code",
   "execution_count": 66,
   "id": "df98c97b-523c-468c-b2b8-364a6f14fa38",
   "metadata": {},
   "outputs": [
    {
     "name": "stdout",
     "output_type": "stream",
     "text": [
      "[[5 6 7 8]\n",
      " [1 2 3 4]\n",
      " [7 8 9 0]\n",
      " [1 2 3 4]]\n"
     ]
    }
   ],
   "source": [
    "var = np.array([[5,6,7,8],[1,2,3,4]])\n",
    "var1 = np.array([[7,8,9,0],[1,2,3,4]])\n",
    "merge = np.concatenate((var,var1), axis = 0)\n",
    "print(merge)"
   ]
  },
  {
   "cell_type": "code",
   "execution_count": 76,
   "id": "60725245-e9bb-43e6-b254-b5991eb78dba",
   "metadata": {},
   "outputs": [
    {
     "name": "stdout",
     "output_type": "stream",
     "text": [
      "[[[5 6 7 8]\n",
      "  [1 2 3 4]]\n",
      "\n",
      " [[7 8 9 0]\n",
      "  [1 2 3 4]]]\n",
      "\n",
      "[[5 6 7 8 7 8 9 0]\n",
      " [1 2 3 4 1 2 3 4]]\n",
      "\n",
      "[[5 6 7 8]\n",
      " [1 2 3 4]\n",
      " [7 8 9 0]\n",
      " [1 2 3 4]]\n",
      "\n",
      "[[[5 7]\n",
      "  [6 8]\n",
      "  [7 9]\n",
      "  [8 0]]\n",
      "\n",
      " [[1 1]\n",
      "  [2 2]\n",
      "  [3 3]\n",
      "  [4 4]]]\n"
     ]
    }
   ],
   "source": [
    "var = np.array([[5,6,7,8],[1,2,3,4]])\n",
    "var1 = np.array([[7,8,9,0],[1,2,3,4]])\n",
    "merge = np.stack((var,var1))\n",
    "merge_row = np.hstack((var,var1))\n",
    "merge_column = np.vstack((var,var1))\n",
    "merge_height = np.dstack((var,var1))\n",
    "\n",
    "\n",
    "print(merge)\n",
    "print()\n",
    "print(merge_row)\n",
    "print()\n",
    "print(merge_column)\n",
    "print()\n",
    "print(merge_height)"
   ]
  },
  {
   "cell_type": "code",
   "execution_count": 79,
   "id": "c1092c44-f80a-4b98-88c8-49d871fab167",
   "metadata": {},
   "outputs": [
    {
     "name": "stdout",
     "output_type": "stream",
     "text": [
      "[array([1]), array([2]), array([3]), array([4]), array([5]), array([6])]\n"
     ]
    }
   ],
   "source": [
    "arr = np.array([1,2,3,4,5,6])\n",
    "arr_split = np.array_split(arr,6)\n",
    "\n",
    "print(arr_split)"
   ]
  },
  {
   "cell_type": "code",
   "execution_count": 81,
   "id": "7d64ae0b-1548-421a-a1a3-90fc08e131da",
   "metadata": {},
   "outputs": [
    {
     "name": "stdout",
     "output_type": "stream",
     "text": [
      "(array([1, 5, 6, 7], dtype=int64),)\n"
     ]
    }
   ],
   "source": [
    "arr = np.array([1,2,3,4,5,2,2,2,3,6])\n",
    "x  = np.where(arr ==2)\n",
    "print(x)"
   ]
  },
  {
   "cell_type": "code",
   "execution_count": 82,
   "id": "caf48774-6b41-46b3-a77a-50c5028177df",
   "metadata": {},
   "outputs": [
    {
     "name": "stdout",
     "output_type": "stream",
     "text": [
      "[   0    2   12   34   43   43  343  746  764 8784]\n"
     ]
    }
   ],
   "source": [
    "arr_sort = np.array([43,764,43,0,34,12,2,343,746,8784])\n",
    "print(np.sort(arr_sort))"
   ]
  },
  {
   "cell_type": "code",
   "execution_count": 84,
   "id": "c17774ca-4067-462f-a759-a5a386ba210a",
   "metadata": {},
   "outputs": [
    {
     "name": "stdout",
     "output_type": "stream",
     "text": [
      "[3 4 5 2 1]\n"
     ]
    }
   ],
   "source": [
    "var = np.array([1,2,3,4,5])\n",
    "np.random.shuffle(var)\n",
    "print(var)"
   ]
  },
  {
   "cell_type": "code",
   "execution_count": 87,
   "id": "3acfca10-a346-4517-ba59-41dad2c45254",
   "metadata": {},
   "outputs": [
    {
     "name": "stdout",
     "output_type": "stream",
     "text": [
      "[1 2 3 4 5 6 7 8]\n"
     ]
    }
   ],
   "source": [
    "var = np.array([1,2,3,4,5,2,3,4,5,6,7,8,1,2,3,4,5,6,7,7])\n",
    "x = np.unique(var)\n",
    "print(x)"
   ]
  },
  {
   "cell_type": "code",
   "execution_count": 89,
   "id": "2a8a642f-dd5b-47b8-8115-6c57f5100169",
   "metadata": {},
   "outputs": [
    {
     "name": "stdout",
     "output_type": "stream",
     "text": [
      "(array([1, 2, 3, 4, 5, 6, 7, 8]), array([ 0,  1,  2,  3,  4,  9, 10, 11], dtype=int64), array([2, 3, 3, 3, 3, 2, 3, 1], dtype=int64))\n"
     ]
    }
   ],
   "source": [
    "var = np.array([1,2,3,4,5,2,3,4,5,6,7,8,1,2,3,4,5,6,7,7])\n",
    "x = np.unique(var, return_index = True, return_counts = True)\n",
    "print(x)"
   ]
  },
  {
   "cell_type": "code",
   "execution_count": 90,
   "id": "1a5eec35-02db-4c1b-b03b-5eb9a1a9b895",
   "metadata": {},
   "outputs": [
    {
     "name": "stdout",
     "output_type": "stream",
     "text": [
      "[[1 2 3]\n",
      " [4 5 6]]\n"
     ]
    }
   ],
   "source": [
    "var = np.array([1,2,3,4,5,6])\n",
    "y = np.resize(var,(2,3))\n",
    "print(y)"
   ]
  },
  {
   "cell_type": "code",
   "execution_count": 99,
   "id": "6821eb9f-c545-4fc9-8680-770f801e3e2f",
   "metadata": {},
   "outputs": [
    {
     "name": "stdout",
     "output_type": "stream",
     "text": [
      "[[1 2]\n",
      " [3 4]]\n",
      "\n",
      "[1 3 2 4]\n",
      "\n",
      "[1 2 3 4]\n"
     ]
    }
   ],
   "source": [
    "var = np.array([1,2,3,4])\n",
    "\n",
    "y = np.resize(var, (2,2))\n",
    "print(y)\n",
    "print()\n",
    "print(y.flatten(order = \"F\"))\n",
    "print()\n",
    "print(np.ravel(y))"
   ]
  },
  {
   "cell_type": "code",
   "execution_count": 100,
   "id": "5a341b2b-e2f3-4943-b856-4e134666f961",
   "metadata": {},
   "outputs": [
    {
     "name": "stdout",
     "output_type": "stream",
     "text": [
      "[ 1  2 20  3  4  6  7  8  9]\n"
     ]
    }
   ],
   "source": [
    "var = np.array([[1,2,3,4],[6,7,8,9]])\n",
    "\n",
    "y = np.insert(var, 2, 20)\n",
    "print(y)"
   ]
  },
  {
   "cell_type": "code",
   "execution_count": 101,
   "id": "c66a3c82-472a-4a2e-8641-14c986c9a2f4",
   "metadata": {},
   "outputs": [
    {
     "name": "stdout",
     "output_type": "stream",
     "text": [
      "[ 1  2 20  3 20  4  6  7  8  9]\n"
     ]
    }
   ],
   "source": [
    "var = np.array([[1,2,3,4],[6,7,8,9]])\n",
    "\n",
    "y = np.insert(var, [2,3], 20)\n",
    "print(y)"
   ]
  },
  {
   "cell_type": "code",
   "execution_count": 105,
   "id": "d8032264-281e-4b37-8f26-282c9c95426c",
   "metadata": {},
   "outputs": [
    {
     "name": "stdout",
     "output_type": "stream",
     "text": [
      "[[ 1  2 26  3]\n",
      " [ 6  7 26  8]]\n"
     ]
    }
   ],
   "source": [
    "var = np.array([[1,2,3],[6,7,8]])\n",
    "\n",
    "y = np.insert(var, 2, 26, axis =1)\n",
    "print(y)"
   ]
  },
  {
   "cell_type": "code",
   "execution_count": 107,
   "id": "41d262a1-6346-41e3-9a1c-2e426eacd3cc",
   "metadata": {},
   "outputs": [
    {
     "name": "stdout",
     "output_type": "stream",
     "text": [
      "[[ 1  2  3  4]\n",
      " [ 6  7  8  4]\n",
      " [26 26 26 26]]\n"
     ]
    }
   ],
   "source": [
    "var = np.array([[1,2,3,4],[6,7,8,4]])\n",
    "\n",
    "y = np.insert(var, 2, 26, axis =0)\n",
    "print(y)"
   ]
  },
  {
   "cell_type": "code",
   "execution_count": 111,
   "id": "231e4669-4a5c-4c03-a586-9a17ba7b3ca8",
   "metadata": {},
   "outputs": [
    {
     "name": "stdout",
     "output_type": "stream",
     "text": [
      "[1 2 3 4 2]\n"
     ]
    }
   ],
   "source": [
    "var = np.array([1,2,3,4])\n",
    "\n",
    "y = np.append(var, 2)\n",
    "print(y)"
   ]
  },
  {
   "cell_type": "code",
   "execution_count": 113,
   "id": "fdce84fa-eaec-47ef-a013-05cfa2410f75",
   "metadata": {},
   "outputs": [
    {
     "name": "stdout",
     "output_type": "stream",
     "text": [
      "[[ 1  2  3  4]\n",
      " [ 6  7  8  9]\n",
      " [23 45 67 89]]\n"
     ]
    }
   ],
   "source": [
    "var = np.array([[1,2,3,4],[6,7,8,9]])\n",
    "\n",
    "y = np.append(var, [[23,45,67,89]], axis = 0)\n",
    "print(y)"
   ]
  },
  {
   "cell_type": "code",
   "execution_count": 115,
   "id": "efedae47-8752-49e6-ad00-4acb1bae5a6c",
   "metadata": {},
   "outputs": [
    {
     "name": "stdout",
     "output_type": "stream",
     "text": [
      "[1 2 4 6 7 8 9]\n"
     ]
    }
   ],
   "source": [
    "var = np.array([[1,2,3,4],[6,7,8,9]])\n",
    "\n",
    "y = np.delete(var, 2)\n",
    "print(y)"
   ]
  },
  {
   "cell_type": "code",
   "execution_count": 118,
   "id": "9d642591-1058-4ce7-a21a-b778bd0ae41c",
   "metadata": {},
   "outputs": [
    {
     "name": "stdout",
     "output_type": "stream",
     "text": [
      "[[1 2 3 4]\n",
      " [6 7 8 9]]\n",
      "<class 'numpy.matrix'>\n"
     ]
    }
   ],
   "source": [
    "var = np.matrix([[1,2,3,4],[6,7,8,9]])\n",
    "print(var)\n",
    "print(type(var))"
   ]
  },
  {
   "cell_type": "code",
   "execution_count": null,
   "id": "cbc1815e-6785-49d7-9e04-97e104f73f70",
   "metadata": {},
   "outputs": [],
   "source": [
    "\n"
   ]
  }
 ],
 "metadata": {
  "kernelspec": {
   "display_name": "Python 3 (ipykernel)",
   "language": "python",
   "name": "python3"
  },
  "language_info": {
   "codemirror_mode": {
    "name": "ipython",
    "version": 3
   },
   "file_extension": ".py",
   "mimetype": "text/x-python",
   "name": "python",
   "nbconvert_exporter": "python",
   "pygments_lexer": "ipython3",
   "version": "3.11.7"
  }
 },
 "nbformat": 4,
 "nbformat_minor": 5
}
